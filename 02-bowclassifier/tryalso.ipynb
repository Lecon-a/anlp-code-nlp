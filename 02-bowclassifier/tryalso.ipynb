{
 "cells": [
  {
   "cell_type": "code",
   "execution_count": 27,
   "metadata": {},
   "outputs": [],
   "source": [
    "# Create input reader function\n",
    "def input_reader(filename) -> tuple:\n",
    "    X_data = []\n",
    "    Y_data =[]\n",
    "    # Open file system\n",
    "    with open(filename, 'r') as f:\n",
    "        for line in f:\n",
    "            label, text = line.strip().split(sep=' ||| ')\n",
    "            X_data.append(text)\n",
    "            Y_data.append(int(label))    \n",
    "    return (X_data, Y_data)    \n",
    "        "
   ]
  },
  {
   "cell_type": "code",
   "execution_count": 28,
   "metadata": {},
   "outputs": [],
   "source": [
    "# Reads in training and testing dataset\n",
    "X_train, Y_train = input_reader('../data/sst-sentiment-text-threeclass/train.txt')\n",
    "X_test, Y_test = input_reader('../data/sst-sentiment-text-threeclass/dev.txt')"
   ]
  },
  {
   "cell_type": "code",
   "execution_count": 33,
   "metadata": {},
   "outputs": [],
   "source": [
    "# tokenize each entry\n",
    "def tokenize(datum):\n",
    "    # split string into words\n",
    "    return datum.split(' ')\n",
    "\n",
    "def build_feature_map(X) -> dict:\n",
    "    '''\n",
    "        check for emptiness; return if empty\n",
    "        setup a set object for distinct words\n",
    "        loop through the corpus and this takes O(n^2) - quadratic time\n",
    "        return a dictionary where each word is indexed\n",
    "    '''\n",
    "    if len(X) == 0:\n",
    "        return\n",
    "    unique_words = set()\n",
    "    for datum in X:\n",
    "        for word in tokenize(datum):\n",
    "            unique_words.add(word)        \n",
    "    return {word: idx for idx, word in enumerate(unique_words)}\n",
    "\n"
   ]
  },
  {
   "cell_type": "code",
   "execution_count": 1,
   "metadata": {},
   "outputs": [],
   "source": [
    "from scipy.sparse import dok_matrix\n",
    "\n",
    "def extract_features(word_to_idx, X):\n",
    "    features = dok_matrix((len(X), len(word_to_idx)))\n",
    "    for i in range(len(X)):\n",
    "        for word in tokenize(X[i]):\n",
    "            if word in word_to_idx:\n",
    "                # increase the word count if it is present in the map\n",
    "                # unknown words are discarded because we would not have\n",
    "                # a learned weight for them anyway.\n",
    "                features[i, word_to_idx[word]] += 1\n",
    "\n",
    "    print(features)"
   ]
  },
  {
   "cell_type": "code",
   "execution_count": null,
   "metadata": {},
   "outputs": [],
   "source": []
  },
  {
   "cell_type": "code",
   "execution_count": null,
   "metadata": {},
   "outputs": [],
   "source": []
  },
  {
   "cell_type": "code",
   "execution_count": null,
   "metadata": {},
   "outputs": [
    {
     "name": "stdout",
     "output_type": "stream",
     "text": [
      "{'homework': 0, 'is': 1, 'are': 2, 'hours': 3, 'due': 4, 'The': 5, 'hard': 6, 'office': 7, 'When': 8, 'How': 9, 'the': 10, \"TAs'\": 11, '?': 12}\n",
      "\n",
      "  (0, 8)\t1.0\n",
      "  (0, 1)\t2.0\n",
      "  (0, 10)\t1.0\n",
      "  (0, 0)\t2.0\n",
      "  (0, 4)\t1.0\n",
      "  (0, 12)\t1.0\n",
      "  (0, 5)\t1.0\n",
      "  (0, 6)\t1.0\n",
      "  (1, 8)\t1.0\n",
      "  (1, 2)\t1.0\n",
      "  (1, 10)\t1.0\n",
      "  (1, 11)\t1.0\n",
      "  (1, 7)\t1.0\n",
      "  (1, 3)\t1.0\n",
      "  (1, 12)\t1.0\n",
      "  (2, 9)\t1.0\n",
      "  (2, 6)\t1.0\n",
      "  (2, 1)\t1.0\n",
      "  (2, 10)\t1.0\n",
      "  (2, 0)\t1.0\n",
      "  (2, 12)\t1.0\n",
      "None\n"
     ]
    }
   ],
   "source": [
    "sample_data = [\n",
    "    \"When is the homework due ? The homework is hard\",\n",
    "    \"When are the TAs' office hours ?\",\n",
    "    \"How hard is the homework ?\",\n",
    "]\n",
    "\n",
    "word_to_idx = build_feature_map(sample_data)\n",
    "print(word_to_idx)\n",
    "print()\n",
    "\n",
    "features = extract_features(word_to_idx, sample_data)\n",
    "print(features)"
   ]
  },
  {
   "attachments": {},
   "cell_type": "markdown",
   "metadata": {},
   "source": [
    "Now let's run the feature extractor on the actual data"
   ]
  },
  {
   "cell_type": "code",
   "execution_count": null,
   "metadata": {},
   "outputs": [
    {
     "ename": "NameError",
     "evalue": "name 'build_feature_map' is not defined",
     "output_type": "error",
     "traceback": [
      "\u001b[1;31m---------------------------------------------------------------------------\u001b[0m",
      "\u001b[1;31mNameError\u001b[0m                                 Traceback (most recent call last)",
      "Cell \u001b[1;32mIn[3], line 2\u001b[0m\n\u001b[0;32m      1\u001b[0m \u001b[39m# Build the map based on the training data\u001b[39;00m\n\u001b[1;32m----> 2\u001b[0m word_to_idx \u001b[39m=\u001b[39m build_feature_map(X_train)\n\u001b[0;32m      4\u001b[0m \u001b[39mprint\u001b[39m(\u001b[39mf\u001b[39m\u001b[39m\"\u001b[39m\u001b[39mUnique word types in X_train: \u001b[39m\u001b[39m{\u001b[39;00m\u001b[39mlen\u001b[39m(word_to_idx)\u001b[39m}\u001b[39;00m\u001b[39m\"\u001b[39m)\n\u001b[0;32m      5\u001b[0m \u001b[39mprint\u001b[39m(\u001b[39m\"\u001b[39m\u001b[39mSample words: \u001b[39m\u001b[39m\"\u001b[39m)\n",
      "\u001b[1;31mNameError\u001b[0m: name 'build_feature_map' is not defined"
     ]
    }
   ],
   "source": [
    "# Build the map based on the training data\n",
    "word_to_idx = build_feature_map(X_train)\n",
    "\n",
    "print(f\"Unique word types in X_train: {len(word_to_idx)}\")\n",
    "print(\"Sample words: \")\n",
    "print(list(word_to_idx.keys())[:5])"
   ]
  },
  {
   "cell_type": "code",
   "execution_count": null,
   "metadata": {},
   "outputs": [
    {
     "ename": "NameError",
     "evalue": "name 'extract_features' is not defined",
     "output_type": "error",
     "traceback": [
      "\u001b[1;31m---------------------------------------------------------------------------\u001b[0m",
      "\u001b[1;31mNameError\u001b[0m                                 Traceback (most recent call last)",
      "Cell \u001b[1;32mIn[2], line 2\u001b[0m\n\u001b[0;32m      1\u001b[0m \u001b[39m# convert our strings into count vectors\u001b[39;00m\n\u001b[1;32m----> 2\u001b[0m X_train_vec \u001b[39m=\u001b[39m extract_features(word_to_idx, X_train)\n\u001b[0;32m      3\u001b[0m X_test_vec \u001b[39m=\u001b[39m extract_features(word_to_idx, X_test)\n\u001b[0;32m      5\u001b[0m \u001b[39mfrom\u001b[39;00m \u001b[39msklearn\u001b[39;00m\u001b[39m.\u001b[39;00m\u001b[39mlinear_model\u001b[39;00m \u001b[39mimport\u001b[39;00m LogisticRegression\n",
      "\u001b[1;31mNameError\u001b[0m: name 'extract_features' is not defined"
     ]
    }
   ],
   "source": [
    "# convert our strings into count vectors\n",
    "X_train_vec = extract_features(word_to_idx, X_train)\n",
    "X_test_vec = extract_features(word_to_idx, X_test)\n",
    "\n",
    "from sklearn.linear_model import LogisticRegression\n",
    "\n",
    "classifier = LogisticRegression(tol=10.0)\n",
    "classifier.fit(X_train_vec, Y_train)\n",
    "\n",
    "# create a truncated version of the training set so we have a second model to compare to\n",
    "X_train_vec_truncate = extract_features(word_to_idx, [x[:100] for x in X_train])\n",
    "classifier_truncate = LogisticRegression(tol=10.0)\n",
    "classifier_truncate.fit(X_train_vec_truncate, Y_train)"
   ]
  },
  {
   "cell_type": "code",
   "execution_count": null,
   "metadata": {},
   "outputs": [
    {
     "data": {
      "text/plain": [
       "10.0"
      ]
     },
     "execution_count": 80,
     "metadata": {},
     "output_type": "execute_result"
    }
   ],
   "source": [
    "1e1"
   ]
  }
 ],
 "metadata": {
  "kernelspec": {
   "display_name": "Python 3",
   "language": "python",
   "name": "python3"
  },
  "language_info": {
   "codemirror_mode": {
    "name": "ipython",
    "version": 3
   },
   "file_extension": ".py",
   "mimetype": "text/x-python",
   "name": "python",
   "nbconvert_exporter": "python",
   "pygments_lexer": "ipython3",
   "version": "3.11.4"
  },
  "orig_nbformat": 4
 },
 "nbformat": 4,
 "nbformat_minor": 2
}
