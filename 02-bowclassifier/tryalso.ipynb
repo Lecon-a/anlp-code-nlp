{
 "cells": [
  {
   "cell_type": "code",
   "execution_count": 17,
   "metadata": {},
   "outputs": [],
   "source": [
    "# Create input reader function\n",
    "def input_reader(filename) -> tuple:\n",
    "    X_data = []\n",
    "    Y_data =[]\n",
    "    # Open file system\n",
    "    with open(filename, 'r') as f:\n",
    "        for line in f:\n",
    "            label, text = line.strip().split(sep=' ||| ')\n",
    "            X_data.append(text)\n",
    "            Y_data.append(int(label))    \n",
    "    return (X_data, Y_data)    \n",
    "        "
   ]
  },
  {
   "cell_type": "code",
   "execution_count": 18,
   "metadata": {},
   "outputs": [],
   "source": [
    "# Reads in training and testing dataset\n",
    "X_train, Y_train = input_reader('../data/sst-sentiment-text-threeclass/train.txt')\n",
    "X_test, Y_test = input_reader('../data/sst-sentiment-text-threeclass/dev.txt')"
   ]
  },
  {
   "cell_type": "code",
   "execution_count": 19,
   "metadata": {},
   "outputs": [],
   "source": [
    "# tokenize each entry\n",
    "def tokenize(datum):\n",
    "    # split string into words\n",
    "    return datum.split(' ')\n",
    "\n",
    "def build_feature_map(X) -> dict:\n",
    "    '''\n",
    "        check for emptiness; return if empty\n",
    "        setup a set object for distinct words\n",
    "        loop through the corpus and this takes O(n^2) - quadratic time\n",
    "        return a dictionary where each word is indexed\n",
    "    '''\n",
    "    if len(X) == 0:\n",
    "        return\n",
    "    unique_words = set()\n",
    "    for datum in X:\n",
    "        for word in tokenize(datum):\n",
    "            unique_words.add(word)        \n",
    "    return {word: idx for idx, word in enumerate(unique_words)}\n",
    "\n"
   ]
  },
  {
   "cell_type": "code",
   "execution_count": 21,
   "metadata": {},
   "outputs": [],
   "source": [
    "from scipy.sparse import dok_matrix\n",
    "\n",
    "def extract_features(word_to_idx, X):\n",
    "    features = dok_matrix((len(X), len(word_to_idx)))\n",
    "    for i in range(len(X)):\n",
    "        for word in tokenize(X[i]):\n",
    "            if word in word_to_idx:\n",
    "                # increase the word count if it is present in the map\n",
    "                # unknown words are discarded because we would not have\n",
    "                # a learned weight for them anyway.\n",
    "                features[i, word_to_idx[word]] += 1\n",
    "\n",
    "    return features"
   ]
  },
  {
   "cell_type": "code",
   "execution_count": null,
   "metadata": {},
   "outputs": [],
   "source": []
  },
  {
   "cell_type": "code",
   "execution_count": null,
   "metadata": {},
   "outputs": [],
   "source": []
  },
  {
   "cell_type": "code",
   "execution_count": 22,
   "metadata": {},
   "outputs": [
    {
     "name": "stdout",
     "output_type": "stream",
     "text": [
      "{'homework': 0, 'hours': 1, '?': 2, 'How': 3, 'hard': 4, 'are': 5, \"TAs'\": 6, 'office': 7, 'The': 8, 'due': 9, 'is': 10, 'When': 11, 'the': 12}\n",
      "\n",
      "  (0, 11)\t1.0\n",
      "  (0, 10)\t2.0\n",
      "  (0, 12)\t1.0\n",
      "  (0, 0)\t2.0\n",
      "  (0, 9)\t1.0\n",
      "  (0, 2)\t1.0\n",
      "  (0, 8)\t1.0\n",
      "  (0, 4)\t1.0\n",
      "  (1, 11)\t1.0\n",
      "  (1, 5)\t1.0\n",
      "  (1, 12)\t1.0\n",
      "  (1, 6)\t1.0\n",
      "  (1, 7)\t1.0\n",
      "  (1, 1)\t1.0\n",
      "  (1, 2)\t1.0\n",
      "  (2, 3)\t1.0\n",
      "  (2, 4)\t1.0\n",
      "  (2, 10)\t1.0\n",
      "  (2, 12)\t1.0\n",
      "  (2, 0)\t1.0\n",
      "  (2, 2)\t1.0\n"
     ]
    }
   ],
   "source": [
    "sample_data = [\n",
    "    \"When is the homework due ? The homework is hard\",\n",
    "    \"When are the TAs' office hours ?\",\n",
    "    \"How hard is the homework ?\",\n",
    "]\n",
    "\n",
    "word_to_idx = build_feature_map(sample_data)\n",
    "print(word_to_idx)\n",
    "print()\n",
    "\n",
    "features = extract_features(word_to_idx, sample_data)\n",
    "print(features)"
   ]
  },
  {
   "attachments": {},
   "cell_type": "markdown",
   "metadata": {},
   "source": [
    "Now let's run the feature extractor on the actual data"
   ]
  },
  {
   "cell_type": "code",
   "execution_count": 23,
   "metadata": {},
   "outputs": [
    {
     "name": "stdout",
     "output_type": "stream",
     "text": [
      "Unique word types in X_train: 18280\n",
      "Sample words: \n",
      "['glitzy', 'loose-jointed', 'refused', 'sci-fi', 'basis']\n"
     ]
    }
   ],
   "source": [
    "# Build the map based on the training data\n",
    "word_to_idx = build_feature_map(X_train)\n",
    "\n",
    "print(f\"Unique word types in X_train: {len(word_to_idx)}\")\n",
    "print(\"Sample words: \")\n",
    "print(list(word_to_idx.keys())[:5])"
   ]
  },
  {
   "cell_type": "code",
   "execution_count": 25,
   "metadata": {},
   "outputs": [
    {
     "name": "stdout",
     "output_type": "stream",
     "text": [
      "151450 8544\n"
     ]
    },
    {
     "data": {
      "text/html": [
       "<style>#sk-container-id-1 {color: black;}#sk-container-id-1 pre{padding: 0;}#sk-container-id-1 div.sk-toggleable {background-color: white;}#sk-container-id-1 label.sk-toggleable__label {cursor: pointer;display: block;width: 100%;margin-bottom: 0;padding: 0.3em;box-sizing: border-box;text-align: center;}#sk-container-id-1 label.sk-toggleable__label-arrow:before {content: \"▸\";float: left;margin-right: 0.25em;color: #696969;}#sk-container-id-1 label.sk-toggleable__label-arrow:hover:before {color: black;}#sk-container-id-1 div.sk-estimator:hover label.sk-toggleable__label-arrow:before {color: black;}#sk-container-id-1 div.sk-toggleable__content {max-height: 0;max-width: 0;overflow: hidden;text-align: left;background-color: #f0f8ff;}#sk-container-id-1 div.sk-toggleable__content pre {margin: 0.2em;color: black;border-radius: 0.25em;background-color: #f0f8ff;}#sk-container-id-1 input.sk-toggleable__control:checked~div.sk-toggleable__content {max-height: 200px;max-width: 100%;overflow: auto;}#sk-container-id-1 input.sk-toggleable__control:checked~label.sk-toggleable__label-arrow:before {content: \"▾\";}#sk-container-id-1 div.sk-estimator input.sk-toggleable__control:checked~label.sk-toggleable__label {background-color: #d4ebff;}#sk-container-id-1 div.sk-label input.sk-toggleable__control:checked~label.sk-toggleable__label {background-color: #d4ebff;}#sk-container-id-1 input.sk-hidden--visually {border: 0;clip: rect(1px 1px 1px 1px);clip: rect(1px, 1px, 1px, 1px);height: 1px;margin: -1px;overflow: hidden;padding: 0;position: absolute;width: 1px;}#sk-container-id-1 div.sk-estimator {font-family: monospace;background-color: #f0f8ff;border: 1px dotted black;border-radius: 0.25em;box-sizing: border-box;margin-bottom: 0.5em;}#sk-container-id-1 div.sk-estimator:hover {background-color: #d4ebff;}#sk-container-id-1 div.sk-parallel-item::after {content: \"\";width: 100%;border-bottom: 1px solid gray;flex-grow: 1;}#sk-container-id-1 div.sk-label:hover label.sk-toggleable__label {background-color: #d4ebff;}#sk-container-id-1 div.sk-serial::before {content: \"\";position: absolute;border-left: 1px solid gray;box-sizing: border-box;top: 0;bottom: 0;left: 50%;z-index: 0;}#sk-container-id-1 div.sk-serial {display: flex;flex-direction: column;align-items: center;background-color: white;padding-right: 0.2em;padding-left: 0.2em;position: relative;}#sk-container-id-1 div.sk-item {position: relative;z-index: 1;}#sk-container-id-1 div.sk-parallel {display: flex;align-items: stretch;justify-content: center;background-color: white;position: relative;}#sk-container-id-1 div.sk-item::before, #sk-container-id-1 div.sk-parallel-item::before {content: \"\";position: absolute;border-left: 1px solid gray;box-sizing: border-box;top: 0;bottom: 0;left: 50%;z-index: -1;}#sk-container-id-1 div.sk-parallel-item {display: flex;flex-direction: column;z-index: 1;position: relative;background-color: white;}#sk-container-id-1 div.sk-parallel-item:first-child::after {align-self: flex-end;width: 50%;}#sk-container-id-1 div.sk-parallel-item:last-child::after {align-self: flex-start;width: 50%;}#sk-container-id-1 div.sk-parallel-item:only-child::after {width: 0;}#sk-container-id-1 div.sk-dashed-wrapped {border: 1px dashed gray;margin: 0 0.4em 0.5em 0.4em;box-sizing: border-box;padding-bottom: 0.4em;background-color: white;}#sk-container-id-1 div.sk-label label {font-family: monospace;font-weight: bold;display: inline-block;line-height: 1.2em;}#sk-container-id-1 div.sk-label-container {text-align: center;}#sk-container-id-1 div.sk-container {/* jupyter's `normalize.less` sets `[hidden] { display: none; }` but bootstrap.min.css set `[hidden] { display: none !important; }` so we also need the `!important` here to be able to override the default hidden behavior on the sphinx rendered scikit-learn.org. See: https://github.com/scikit-learn/scikit-learn/issues/21755 */display: inline-block !important;position: relative;}#sk-container-id-1 div.sk-text-repr-fallback {display: none;}</style><div id=\"sk-container-id-1\" class=\"sk-top-container\"><div class=\"sk-text-repr-fallback\"><pre>LogisticRegression(tol=10.0)</pre><b>In a Jupyter environment, please rerun this cell to show the HTML representation or trust the notebook. <br />On GitHub, the HTML representation is unable to render, please try loading this page with nbviewer.org.</b></div><div class=\"sk-container\" hidden><div class=\"sk-item\"><div class=\"sk-estimator sk-toggleable\"><input class=\"sk-toggleable__control sk-hidden--visually\" id=\"sk-estimator-id-1\" type=\"checkbox\" checked><label for=\"sk-estimator-id-1\" class=\"sk-toggleable__label sk-toggleable__label-arrow\">LogisticRegression</label><div class=\"sk-toggleable__content\"><pre>LogisticRegression(tol=10.0)</pre></div></div></div></div></div>"
      ],
      "text/plain": [
       "LogisticRegression(tol=10.0)"
      ]
     },
     "execution_count": 25,
     "metadata": {},
     "output_type": "execute_result"
    }
   ],
   "source": [
    "# convert our strings into count vectors\n",
    "X_train_vec = extract_features(word_to_idx, X_train)\n",
    "X_test_vec = extract_features(word_to_idx, X_test)\n",
    "\n",
    "from sklearn.linear_model import LogisticRegression\n",
    "\n",
    "classifier = LogisticRegression(tol=1e1)\n",
    "print(len(X_train_vec), len(Y_train))\n",
    "classifier.fit(X_train_vec, Y_train)\n",
    "\n",
    "# create a truncated version of the training set so we have a second model to compare to\n",
    "X_train_vec_truncate = extract_features(word_to_idx, [x[:100] for x in X_train])\n",
    "classifier_truncate = LogisticRegression(tol=1e1)\n",
    "classifier_truncate.fit(X_train_vec_truncate, Y_train)"
   ]
  },
  {
   "cell_type": "code",
   "execution_count": null,
   "metadata": {},
   "outputs": [
    {
     "data": {
      "text/plain": [
       "10.0"
      ]
     },
     "execution_count": 80,
     "metadata": {},
     "output_type": "execute_result"
    }
   ],
   "source": []
  }
 ],
 "metadata": {
  "kernelspec": {
   "display_name": "Python 3",
   "language": "python",
   "name": "python3"
  },
  "language_info": {
   "codemirror_mode": {
    "name": "ipython",
    "version": 3
   },
   "file_extension": ".py",
   "mimetype": "text/x-python",
   "name": "python",
   "nbconvert_exporter": "python",
   "pygments_lexer": "ipython3",
   "version": "3.11.4"
  },
  "orig_nbformat": 4
 },
 "nbformat": 4,
 "nbformat_minor": 2
}
